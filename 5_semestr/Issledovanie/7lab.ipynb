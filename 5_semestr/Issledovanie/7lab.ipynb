{
 "cells": [
  {
   "cell_type": "code",
   "execution_count": 1,
   "metadata": {},
   "outputs": [
    {
     "name": "stdout",
     "output_type": "stream",
     "text": [
      "Нижняя цена игры =  3\n",
      "Верхняя цена игры =  4\n",
      "L =  [[ 0  3  1]\n",
      " [ 2  1 -1]\n",
      " [ 5 -1 -2]]\n",
      "P =  [ 2.75 -3.75  2.  ]\n",
      "Q =  [ 0.5  1.  -0.5]\n",
      "2.5\n"
     ]
    }
   ],
   "source": [
    "import numpy as np\n",
    "from scipy.linalg import solve\n",
    "\n",
    "A = np.array([[ 3, 6, 4],\n",
    "              [ 5, 4, 2], \n",
    "              [ 8, 2, 1,]])\n",
    "temp = A.transpose()\n",
    "m_rows, n_cols = A.shape\n",
    "\n",
    "a=[np.amin(A[0]),np.amin(A[1]),np.amin(A[2])]\n",
    "b=[np.amax(temp[0]),np.amax(temp[1]),np.amax(temp[2])]\n",
    "\n",
    "nizhgranic=np.max(a)     \n",
    "topgranic=np.min(b)\n",
    "print('Нижняя цена игры = ',nizhgranic)\n",
    "print('Верхняя цена игры = ', topgranic)\n",
    "\n",
    "L=A-nizhgranic\n",
    "print(\"L = \",L)\n",
    "L1=L.transpose()\n",
    "x=a\n",
    "c=[1,1,1]\n",
    "c1=c\n",
    "f=sum(a)\n",
    "w=sum(b)\n",
    "\n",
    "M=solve(L1,c1)\n",
    "value1=1/sum(M)\n",
    "P=M*value1\n",
    "if nizhgranic<0:\n",
    "    v=value1+nizhgranic\n",
    "else:\n",
    "    v=value1\n",
    "print(\"P = \",  P)\n",
    "\n",
    "Matrix_1=solve(L,c)\n",
    "Value2=1/sum(Matrix_1)\n",
    "Q=Matrix_1*Value2\n",
    "print(\"Q = \", Q)\n",
    "print(v)"
   ]
  }
 ],
 "metadata": {
  "kernelspec": {
   "display_name": "Python 3",
   "language": "python",
   "name": "python3"
  },
  "language_info": {
   "codemirror_mode": {
    "name": "ipython",
    "version": 3
   },
   "file_extension": ".py",
   "mimetype": "text/x-python",
   "name": "python",
   "nbconvert_exporter": "python",
   "pygments_lexer": "ipython3",
   "version": "3.9.5"
  }
 },
 "nbformat": 4,
 "nbformat_minor": 2
}
